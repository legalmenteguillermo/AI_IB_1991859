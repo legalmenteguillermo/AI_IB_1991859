{
  "nbformat": 4,
  "nbformat_minor": 0,
  "metadata": {
    "colab": {
      "provenance": [],
      "collapsed_sections": []
    },
    "kernelspec": {
      "name": "python3",
      "display_name": "Python 3"
    },
    "language_info": {
      "name": "python"
    }
  },
  "cells": [
    {
      "cell_type": "markdown",
      "source": [
        "\n",
        "EXERCISE 1.\n",
        "Create a python script where the user is going to be asked for the name. After that, the program will greet the user with the given name. Only exception: the script will not greet the user if the given name is \"Ana\", \"John\" or \"Peter\"."
      ],
      "metadata": {
        "id": "KoQjeEmrdslx"
      }
    },
    {
      "cell_type": "code",
      "source": [
        "# EXERCISE 1 \n",
        "\n",
        "message = input(\"Hi :) What is your name? \")\n",
        "if message != \"Ana\" and message != \"John\" and message != \"Peter\":\n",
        "  print(\"Nice to meet you \" + message)\n",
        "else:\n",
        "  print(\"Sorry, I can not greet you\")"
      ],
      "metadata": {
        "colab": {
          "base_uri": "https://localhost:8080/"
        },
        "id": "ILaEmpPbdsxa",
        "outputId": "a1ec993e-56a3-4d73-bed2-c29fa301dedd"
      },
      "execution_count": 21,
      "outputs": [
        {
          "output_type": "stream",
          "name": "stdout",
          "text": [
            "Hi :) What is your name? Ana\n",
            "Sorry, I can not greet you\n"
          ]
        }
      ]
    },
    {
      "cell_type": "markdown",
      "source": [
        "EXERCISE 2. Create a function in a pyhton script that returns (print) the last element of a given list, reverts the order of the list and finally returns (print) the reverted list."
      ],
      "metadata": {
        "id": "UdLXAmttgDsq"
      }
    },
    {
      "cell_type": "code",
      "source": [
        "# EXERCISE 2\n",
        "List = [\"Monday\", \"Tuesday\", \"Wendsday\",\"Thursday\",\"Friday\"]\n",
        "print(List[4])\n",
        "idx = len(List) - 1\n",
        "Revertedlist = []\n",
        "while (idx >= 0):\n",
        "  Revertedlist.append(List[idx])\n",
        "  idx = idx - 1\n",
        "print(Revertedlist)"
      ],
      "metadata": {
        "colab": {
          "base_uri": "https://localhost:8080/"
        },
        "id": "IknFDMiQgNqW",
        "outputId": "b64afed4-9680-4387-c479-d63980b9ce66"
      },
      "execution_count": 28,
      "outputs": [
        {
          "output_type": "stream",
          "name": "stdout",
          "text": [
            "Friday\n",
            "['Friday', 'Thursday', 'Wendsday', 'Tuesday', 'Monday']\n"
          ]
        }
      ]
    },
    {
      "cell_type": "markdown",
      "source": [
        "EXERCISE 3. Create a function in a python script that takes a list of strings as input and then it prints, line by line, the whole list in a rectangular shape. E.g., the list could be [\"Hi\", \"my\", \"name\", \"is\", \"John\", \"Doe\"] and the final result is:"
      ],
      "metadata": {
        "id": "yyaiXsxJiVam"
      }
    },
    {
      "cell_type": "code",
      "source": [
        "# EXERCISE 3\n",
        "def my_function():\n",
        "  lst = []\n",
        "  n = int(input(\"Enter number of elements : \"))\n",
        "  for i in range(0, n):\n",
        "      ele = str(input())\n",
        "      lst.append(ele) \n",
        "  print(\"Input list:\")        \n",
        "  print(lst)\n",
        "  print(\"Rectangular shape:\") \n",
        "  print(\"*********\")\n",
        "  for x in range(len(lst)):\n",
        "    print(\"*\"+ lst[x]+\"   *\")\n",
        "  print(\"*********\")"
      ],
      "metadata": {
        "id": "Sgu-7pd-iZzv"
      },
      "execution_count": 52,
      "outputs": []
    },
    {
      "cell_type": "code",
      "source": [
        "# Use the function.\n",
        "my_function()\n"
      ],
      "metadata": {
        "colab": {
          "base_uri": "https://localhost:8080/"
        },
        "id": "IC57uxJukcr8",
        "outputId": "d0143468-3d5c-44e4-cbe1-a657065b16c4"
      },
      "execution_count": 53,
      "outputs": [
        {
          "output_type": "stream",
          "name": "stdout",
          "text": [
            "Enter number of elements : 4\n",
            "hi\n",
            "i\n",
            "am\n",
            "Memo\n",
            "Input list:\n",
            "['hi', 'i', 'am', 'Memo']\n",
            "Rectangular shape:\n",
            "*********\n",
            "*hi*\n",
            "*i*\n",
            "*am*\n",
            "*Memo*\n",
            "*********\n"
          ]
        }
      ]
    }
  ]
}