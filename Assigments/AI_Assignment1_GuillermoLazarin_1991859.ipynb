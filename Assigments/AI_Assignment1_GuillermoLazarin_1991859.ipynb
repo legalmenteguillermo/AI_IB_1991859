{
  "nbformat": 4,
  "nbformat_minor": 0,
  "metadata": {
    "colab": {
      "provenance": [],
      "collapsed_sections": []
    },
    "kernelspec": {
      "name": "python3",
      "display_name": "Python 3"
    },
    "language_info": {
      "name": "python"
    }
  },
  "cells": [
    {
      "cell_type": "markdown",
      "source": [
        "A2: Python Exercises. Guillermo Lazarin Cardenas. 1991859. Thurday N4\n"
      ],
      "metadata": {
        "id": "laRbezxIrHw_"
      }
    },
    {
      "cell_type": "markdown",
      "source": [
        "\n",
        "EXERCISE 1.\n",
        "Create a python script where the user is going to be asked for the name. After that, the program will greet the user with the given name. Only exception: the script will not greet the user if the given name is \"Ana\", \"John\" or \"Peter\"."
      ],
      "metadata": {
        "id": "KoQjeEmrdslx"
      }
    },
    {
      "cell_type": "code",
      "source": [
        "# EXERCISE 1 \n",
        "\n",
        "message = input(\"Hi :) What is your name? \")\n",
        "if message != \"Ana\" and message != \"John\" and message != \"Peter\":\n",
        "  print(\"Nice to meet you \" + message)\n",
        "else:\n",
        "  print(\"Sorry, I can not greet you\")"
      ],
      "metadata": {
        "colab": {
          "base_uri": "https://localhost:8080/"
        },
        "id": "ILaEmpPbdsxa",
        "outputId": "e8eeb08f-a827-4383-f500-5afd2f2f17dd"
      },
      "execution_count": 56,
      "outputs": [
        {
          "output_type": "stream",
          "name": "stdout",
          "text": [
            "Hi :) What is your name? Memo\n",
            "Nice to meet you Memo\n"
          ]
        }
      ]
    },
    {
      "cell_type": "markdown",
      "source": [
        "EXERCISE 2. Create a function in a pyhton script that returns (print) the last element of a given list, reverts the order of the list and finally returns (print) the reverted list."
      ],
      "metadata": {
        "id": "UdLXAmttgDsq"
      }
    },
    {
      "cell_type": "code",
      "source": [
        "# EXERCISE 2\n",
        "List = [\"Monday\", \"Tuesday\", \"Wendsday\",\"Thursday\",\"Friday\"]\n",
        "print(List[4])\n",
        "idx = len(List) - 1\n",
        "Revertedlist = []\n",
        "while (idx >= 0):\n",
        "  Revertedlist.append(List[idx])\n",
        "  idx = idx - 1\n",
        "print(Revertedlist)"
      ],
      "metadata": {
        "colab": {
          "base_uri": "https://localhost:8080/"
        },
        "id": "IknFDMiQgNqW",
        "outputId": "b6114eee-1f22-4789-957a-c09cbc67c82b"
      },
      "execution_count": 57,
      "outputs": [
        {
          "output_type": "stream",
          "name": "stdout",
          "text": [
            "Friday\n",
            "['Friday', 'Thursday', 'Wendsday', 'Tuesday', 'Monday']\n"
          ]
        }
      ]
    },
    {
      "cell_type": "markdown",
      "source": [
        "EXERCISE 3. Create a function in a python script that takes a list of strings as input and then it prints, line by line, the whole list in a rectangular shape. E.g., the list could be [\"Hi\", \"my\", \"name\", \"is\", \"John\", \"Doe\"] and the final result is:"
      ],
      "metadata": {
        "id": "yyaiXsxJiVam"
      }
    },
    {
      "cell_type": "code",
      "source": [
        "# EXERCISE 3\n",
        "def my_function():\n",
        "  lst = []\n",
        "  n = int(input(\"Enter number of elements : \"))\n",
        "  for i in range(0, n):\n",
        "      ele = str(input())\n",
        "      lst.append(ele) \n",
        "  print(\"Input list:\")        \n",
        "  print(lst)\n",
        "  print(\"Rectangular shape:\") \n",
        "  print(\"*********\")\n",
        "  for x in range(len(lst)):\n",
        "    print(\"*\"+ lst[x]+\"   *\")\n",
        "  print(\"*********\")"
      ],
      "metadata": {
        "id": "Sgu-7pd-iZzv"
      },
      "execution_count": 58,
      "outputs": []
    },
    {
      "cell_type": "code",
      "source": [
        "# Use the function.\n",
        "my_function()\n"
      ],
      "metadata": {
        "colab": {
          "base_uri": "https://localhost:8080/"
        },
        "id": "IC57uxJukcr8",
        "outputId": "12b9de71-b43f-48d8-eff9-f4670f222e0b"
      },
      "execution_count": 59,
      "outputs": [
        {
          "output_type": "stream",
          "name": "stdout",
          "text": [
            "Enter number of elements : 3\n",
            "I   \n",
            "love\n",
            "you \n",
            "Input list:\n",
            "['I   ', 'love', 'you ']\n",
            "Rectangular shape:\n",
            "*********\n",
            "*I      *\n",
            "*love   *\n",
            "*you    *\n",
            "*********\n"
          ]
        }
      ]
    }
  ]
}